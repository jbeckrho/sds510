{
  "nbformat": 4,
  "nbformat_minor": 0,
  "metadata": {
    "colab": {
      "provenance": []
    },
    "kernelspec": {
      "name": "python3",
      "display_name": "Python 3"
    },
    "language_info": {
      "name": "python"
    }
  },
  "cells": [
    {
      "cell_type": "code",
      "execution_count": null,
      "metadata": {
        "colab": {
          "base_uri": "https://localhost:8080/"
        },
        "id": "MGyD9MET2uyF",
        "outputId": "b005771d-b9c0-4226-c525-c1ac1ad8ca38"
      },
      "outputs": [
        {
          "output_type": "stream",
          "name": "stdout",
          "text": [
            "Requirement already satisfied: praw in /usr/local/lib/python3.12/dist-packages (7.8.1)\n",
            "Requirement already satisfied: prawcore<3,>=2.4 in /usr/local/lib/python3.12/dist-packages (from praw) (2.4.0)\n",
            "Requirement already satisfied: update_checker>=0.18 in /usr/local/lib/python3.12/dist-packages (from praw) (0.18.0)\n",
            "Requirement already satisfied: websocket-client>=0.54.0 in /usr/local/lib/python3.12/dist-packages (from praw) (1.9.0)\n",
            "Requirement already satisfied: requests<3.0,>=2.6.0 in /usr/local/lib/python3.12/dist-packages (from prawcore<3,>=2.4->praw) (2.32.4)\n",
            "Requirement already satisfied: charset_normalizer<4,>=2 in /usr/local/lib/python3.12/dist-packages (from requests<3.0,>=2.6.0->prawcore<3,>=2.4->praw) (3.4.4)\n",
            "Requirement already satisfied: idna<4,>=2.5 in /usr/local/lib/python3.12/dist-packages (from requests<3.0,>=2.6.0->prawcore<3,>=2.4->praw) (3.11)\n",
            "Requirement already satisfied: urllib3<3,>=1.21.1 in /usr/local/lib/python3.12/dist-packages (from requests<3.0,>=2.6.0->prawcore<3,>=2.4->praw) (2.5.0)\n",
            "Requirement already satisfied: certifi>=2017.4.17 in /usr/local/lib/python3.12/dist-packages (from requests<3.0,>=2.6.0->prawcore<3,>=2.4->praw) (2025.10.5)\n"
          ]
        }
      ],
      "source": [
        "!pip install praw"
      ]
    },
    {
      "cell_type": "code",
      "source": [
        "import praw\n",
        "import csv\n",
        "import time\n",
        "\n",
        "from time import sleep\n",
        "\n",
        "\n",
        "#App ID and Secret ID\n",
        "app_id = 'N9icbmtD3PVNMXGYlGtT6w'\n",
        "app_secret = 'H0u8EH7ISd2z4gavKKCloOAf-JdEuw'\n",
        "\n",
        "reddit =  praw.Reddit(user_agent = \"JeffreyBR\", client_id = app_id, client_secret = app_secret, check_for_async = False)\n",
        "#Establish list of sus terms\n",
        "sus_terms = ['cheese', 'pickles', 'buns', 'meat', 'sesame']\n",
        "#Only looking at the r/Sandwiches subreddit\n",
        "subreddit = reddit.subreddit('Sandwiches')\n",
        "\n",
        "topiclist = []\n",
        "for submission in subreddit.new(limit=None):\n",
        "  topiclist.append(submission.id)\n",
        "\n",
        "#Create CSV files for post and comment data\n",
        "with open('sus_posts.csv','w') as subfile, open('sus_comments.csv','w') as comfile:\n",
        "  #Create headers for both files\n",
        "  subfile.write('post_id,title,author,created_utc,score,sus_terms\\n')\n",
        "  comfile.write('comment_id,comment_text,author,created_utc,score,parent_id,post_id,sus_terms\\n')\n",
        "\n",
        "  for eachtopic in topiclist:\n",
        "    sleep(2)\n",
        "    submission = reddit.submission(eachtopic)\n",
        "    #Check post titles for sus terms\n",
        "    title_terms = []\n",
        "    for term in sus_terms:\n",
        "        if term in submission.title.lower():\n",
        "            title_terms.append(term)\n",
        "    #Building lines for CSV\n",
        "    lineout = eachtopic + ',\"'\n",
        "    lineout += submission.title + '\",'\n",
        "    lineout += submission.author.name + ','\n",
        "    lineout += str(submission.created_utc) + ','\n",
        "    lineout += str(submission.score) + ','\n",
        "    lineout += '/'.join(title_terms) + '\\n'\n",
        "\n",
        "    print(lineout)\n",
        "    subfile.write(lineout) #Save\n",
        "    #Check comments for sus terms\n",
        "    submission.comments.replace_more(limit=None)\n",
        "    commentlist = submission.comments.list()\n",
        "\n",
        "    for eachcomment in commentlist:\n",
        "      sleep(1)\n",
        "      #Checking comments for sus terms\n",
        "      comment_terms = []\n",
        "      for term in sus_terms:\n",
        "          if term in eachcomment.body.lower():\n",
        "              comment_terms.append(term)\n",
        "\n",
        "      if comment_terms:\n",
        "          lineout = eachcomment.id + ',\"'\n",
        "          lineout += eachcomment.body.replace('\\n','/') + '\",'\n",
        "          if not eachcomment.author:\n",
        "            name = 'NoName'\n",
        "          else:\n",
        "            name = eachcomment.author.name\n",
        "          lineout += name + ','\n",
        "          lineout += str(eachcomment.created_utc)  + ','\n",
        "          lineout += str(eachcomment.score)  + ','\n",
        "          lineout += eachcomment.parent_id  + ','\n",
        "          lineout += eachtopic + ','\n",
        "          lineout += '/'.join(comment_terms) + '\\n'\n",
        "\n",
        "          comfile.write(lineout) #Save\n",
        "\n",
        "          print(\"SUS TERM FOUND: \" + lineout)\n",
        "\n"
      ],
      "metadata": {
        "colab": {
          "base_uri": "https://localhost:8080/"
        },
        "id": "9HQgPYd3AYNG",
        "outputId": "51a0d566-ee6e-42d4-ab4f-5855077b347b"
      },
      "execution_count": null,
      "outputs": [
        {
          "output_type": "stream",
          "name": "stdout",
          "text": [
            "1ojpc0o,\"Chicken Salad Sandwiches\",normansmylie,1761795006.0,4,\n",
            "\n",
            "1ojn6vy,\"my honest (depressed) sandwich\",triangulwuadrado,1761788770.0,20,\n",
            "\n",
            "1ojmwez,\"Faroe Island Salmon Sandwich\",New-Composer7591,1761787972.0,108,\n",
            "\n",
            "1ojj9wv,\"Roast beef, turkey & muenster grilled on marbled rye. Topped with lettuce, tomato, oregano, dijon mustard.\",grootboop,1761778347.0,60,\n",
            "\n",
            "1oji15a,\"Love a good pastrami sandwich. Primanti Bros.\",mlong14,1761775297.0,352,\n",
            "\n",
            "SUS TERM FOUND: nm45u57,\"I only get capicola and cheese at primantis\",ChrisBourbon27,1761787113.0,3,t3_1oji15a,1oji15a,cheese\n",
            "\n",
            "SUS TERM FOUND: nm4nz8z,\"Yeah I had it under what should be ideal conditions (midnight after a wedding reception) and it was a huge letdown. It's soft bread with soft fries and soft meat. If anything a gentle toast on the bread would introduce some much needed texture.\",redline582,1761793403.0,1,t1_nm3jaap,1oji15a,meat\n",
            "\n",
            "1ojej2p,\"Did know what to do for lunch. So I made this sandwich\",rasparac,1761767129.0,46,\n",
            "\n",
            "SUS TERM FOUND: nm2v2z1,\"Great looking sandwich (and especially, great looking bread)!  Had to look up ajvar - sounds delicious!  What sort of cheese?\",Windsdochange,1761772098.0,2,t3_1ojej2p,1ojej2p,cheese\n",
            "\n",
            "1ojeeza,\"Masterpiece\",DreDay1106,1761766871.0,25,\n",
            "\n",
            "1ojbh36,\"Lunch !\",Sensitive_Age287,1761760305.0,89,\n",
            "\n",
            "1ojasks,\"Old Bay Tuna Salad Sandwich\",NomadPoolPlayer,1761758839.0,362,\n",
            "\n",
            "1ojaahw,\"Italian…kinda\",TikaPants,1761757732.0,68,\n",
            "\n"
          ]
        }
      ]
    },
    {
      "cell_type": "code",
      "source": [],
      "metadata": {
        "id": "G8u2n5a9A6QR"
      },
      "execution_count": null,
      "outputs": []
    }
  ]
}